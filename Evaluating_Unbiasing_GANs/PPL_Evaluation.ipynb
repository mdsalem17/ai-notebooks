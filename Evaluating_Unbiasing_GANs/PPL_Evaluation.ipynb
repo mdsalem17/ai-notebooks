{
  "nbformat": 4,
  "nbformat_minor": 0,
  "metadata": {
    "colab": {
      "name": "PPL_Evaluation.ipynb",
      "provenance": [],
      "collapsed_sections": [],
      "include_colab_link": true
    },
    "kernelspec": {
      "display_name": "Python 3",
      "language": "python",
      "name": "python3"
    },
    "language_info": {
      "codemirror_mode": {
        "name": "ipython",
        "version": 3
      },
      "file_extension": ".py",
      "mimetype": "text/x-python",
      "name": "python",
      "nbconvert_exporter": "python",
      "pygments_lexer": "ipython3",
      "version": "3.7.6"
    },
    "widgets": {
      "application/vnd.jupyter.widget-state+json": {
        "23e977b664724208b994aa90a08e59a9": {
          "model_module": "@jupyter-widgets/controls",
          "model_name": "HBoxModel",
          "model_module_version": "1.5.0",
          "state": {
            "_view_name": "HBoxView",
            "_dom_classes": [],
            "_model_name": "HBoxModel",
            "_view_module": "@jupyter-widgets/controls",
            "_model_module_version": "1.5.0",
            "_view_count": null,
            "_view_module_version": "1.5.0",
            "box_style": "",
            "layout": "IPY_MODEL_739341c6e0f54a4fb2f042438f7dd661",
            "_model_module": "@jupyter-widgets/controls",
            "children": [
              "IPY_MODEL_a42b33febcbd4e329f6ac67764f2cf6d",
              "IPY_MODEL_4d736a42ecbc4190b6d6b702f90594b6",
              "IPY_MODEL_bd21ccd33fd4453990377a83785c89be"
            ]
          }
        },
        "739341c6e0f54a4fb2f042438f7dd661": {
          "model_module": "@jupyter-widgets/base",
          "model_name": "LayoutModel",
          "model_module_version": "1.2.0",
          "state": {
            "_view_name": "LayoutView",
            "grid_template_rows": null,
            "right": null,
            "justify_content": null,
            "_view_module": "@jupyter-widgets/base",
            "overflow": null,
            "_model_module_version": "1.2.0",
            "_view_count": null,
            "flex_flow": null,
            "width": null,
            "min_width": null,
            "border": null,
            "align_items": null,
            "bottom": null,
            "_model_module": "@jupyter-widgets/base",
            "top": null,
            "grid_column": null,
            "overflow_y": null,
            "overflow_x": null,
            "grid_auto_flow": null,
            "grid_area": null,
            "grid_template_columns": null,
            "flex": null,
            "_model_name": "LayoutModel",
            "justify_items": null,
            "grid_row": null,
            "max_height": null,
            "align_content": null,
            "visibility": null,
            "align_self": null,
            "height": null,
            "min_height": null,
            "padding": null,
            "grid_auto_rows": null,
            "grid_gap": null,
            "max_width": null,
            "order": null,
            "_view_module_version": "1.2.0",
            "grid_template_areas": null,
            "object_position": null,
            "object_fit": null,
            "grid_auto_columns": null,
            "margin": null,
            "display": null,
            "left": null
          }
        },
        "a42b33febcbd4e329f6ac67764f2cf6d": {
          "model_module": "@jupyter-widgets/controls",
          "model_name": "HTMLModel",
          "model_module_version": "1.5.0",
          "state": {
            "_view_name": "HTMLView",
            "style": "IPY_MODEL_1ed77d1ab7a54656af2ed8cd0968fb30",
            "_dom_classes": [],
            "description": "",
            "_model_name": "HTMLModel",
            "placeholder": "​",
            "_view_module": "@jupyter-widgets/controls",
            "_model_module_version": "1.5.0",
            "value": "100%",
            "_view_count": null,
            "_view_module_version": "1.5.0",
            "description_tooltip": null,
            "_model_module": "@jupyter-widgets/controls",
            "layout": "IPY_MODEL_35c87a9031f1435a87afa0ed37e9c4fd"
          }
        },
        "4d736a42ecbc4190b6d6b702f90594b6": {
          "model_module": "@jupyter-widgets/controls",
          "model_name": "FloatProgressModel",
          "model_module_version": "1.5.0",
          "state": {
            "_view_name": "ProgressView",
            "style": "IPY_MODEL_b559a956953c4855bc7a682d56810854",
            "_dom_classes": [],
            "description": "",
            "_model_name": "FloatProgressModel",
            "bar_style": "success",
            "max": 553433881,
            "_view_module": "@jupyter-widgets/controls",
            "_model_module_version": "1.5.0",
            "value": 553433881,
            "_view_count": null,
            "_view_module_version": "1.5.0",
            "orientation": "horizontal",
            "min": 0,
            "description_tooltip": null,
            "_model_module": "@jupyter-widgets/controls",
            "layout": "IPY_MODEL_1fde1429e0aa4fcdbd842334a99dbf05"
          }
        },
        "bd21ccd33fd4453990377a83785c89be": {
          "model_module": "@jupyter-widgets/controls",
          "model_name": "HTMLModel",
          "model_module_version": "1.5.0",
          "state": {
            "_view_name": "HTMLView",
            "style": "IPY_MODEL_6f5f8d15784941e5b74da032cf4cb1d4",
            "_dom_classes": [],
            "description": "",
            "_model_name": "HTMLModel",
            "placeholder": "​",
            "_view_module": "@jupyter-widgets/controls",
            "_model_module_version": "1.5.0",
            "value": " 528M/528M [00:12&lt;00:00, 144MB/s]",
            "_view_count": null,
            "_view_module_version": "1.5.0",
            "description_tooltip": null,
            "_model_module": "@jupyter-widgets/controls",
            "layout": "IPY_MODEL_9e8d9dc176d5403a9d066b8b1e8dd8ab"
          }
        },
        "1ed77d1ab7a54656af2ed8cd0968fb30": {
          "model_module": "@jupyter-widgets/controls",
          "model_name": "DescriptionStyleModel",
          "model_module_version": "1.5.0",
          "state": {
            "_view_name": "StyleView",
            "_model_name": "DescriptionStyleModel",
            "description_width": "",
            "_view_module": "@jupyter-widgets/base",
            "_model_module_version": "1.5.0",
            "_view_count": null,
            "_view_module_version": "1.2.0",
            "_model_module": "@jupyter-widgets/controls"
          }
        },
        "35c87a9031f1435a87afa0ed37e9c4fd": {
          "model_module": "@jupyter-widgets/base",
          "model_name": "LayoutModel",
          "model_module_version": "1.2.0",
          "state": {
            "_view_name": "LayoutView",
            "grid_template_rows": null,
            "right": null,
            "justify_content": null,
            "_view_module": "@jupyter-widgets/base",
            "overflow": null,
            "_model_module_version": "1.2.0",
            "_view_count": null,
            "flex_flow": null,
            "width": null,
            "min_width": null,
            "border": null,
            "align_items": null,
            "bottom": null,
            "_model_module": "@jupyter-widgets/base",
            "top": null,
            "grid_column": null,
            "overflow_y": null,
            "overflow_x": null,
            "grid_auto_flow": null,
            "grid_area": null,
            "grid_template_columns": null,
            "flex": null,
            "_model_name": "LayoutModel",
            "justify_items": null,
            "grid_row": null,
            "max_height": null,
            "align_content": null,
            "visibility": null,
            "align_self": null,
            "height": null,
            "min_height": null,
            "padding": null,
            "grid_auto_rows": null,
            "grid_gap": null,
            "max_width": null,
            "order": null,
            "_view_module_version": "1.2.0",
            "grid_template_areas": null,
            "object_position": null,
            "object_fit": null,
            "grid_auto_columns": null,
            "margin": null,
            "display": null,
            "left": null
          }
        },
        "b559a956953c4855bc7a682d56810854": {
          "model_module": "@jupyter-widgets/controls",
          "model_name": "ProgressStyleModel",
          "model_module_version": "1.5.0",
          "state": {
            "_view_name": "StyleView",
            "_model_name": "ProgressStyleModel",
            "description_width": "",
            "_view_module": "@jupyter-widgets/base",
            "_model_module_version": "1.5.0",
            "_view_count": null,
            "_view_module_version": "1.2.0",
            "bar_color": null,
            "_model_module": "@jupyter-widgets/controls"
          }
        },
        "1fde1429e0aa4fcdbd842334a99dbf05": {
          "model_module": "@jupyter-widgets/base",
          "model_name": "LayoutModel",
          "model_module_version": "1.2.0",
          "state": {
            "_view_name": "LayoutView",
            "grid_template_rows": null,
            "right": null,
            "justify_content": null,
            "_view_module": "@jupyter-widgets/base",
            "overflow": null,
            "_model_module_version": "1.2.0",
            "_view_count": null,
            "flex_flow": null,
            "width": null,
            "min_width": null,
            "border": null,
            "align_items": null,
            "bottom": null,
            "_model_module": "@jupyter-widgets/base",
            "top": null,
            "grid_column": null,
            "overflow_y": null,
            "overflow_x": null,
            "grid_auto_flow": null,
            "grid_area": null,
            "grid_template_columns": null,
            "flex": null,
            "_model_name": "LayoutModel",
            "justify_items": null,
            "grid_row": null,
            "max_height": null,
            "align_content": null,
            "visibility": null,
            "align_self": null,
            "height": null,
            "min_height": null,
            "padding": null,
            "grid_auto_rows": null,
            "grid_gap": null,
            "max_width": null,
            "order": null,
            "_view_module_version": "1.2.0",
            "grid_template_areas": null,
            "object_position": null,
            "object_fit": null,
            "grid_auto_columns": null,
            "margin": null,
            "display": null,
            "left": null
          }
        },
        "6f5f8d15784941e5b74da032cf4cb1d4": {
          "model_module": "@jupyter-widgets/controls",
          "model_name": "DescriptionStyleModel",
          "model_module_version": "1.5.0",
          "state": {
            "_view_name": "StyleView",
            "_model_name": "DescriptionStyleModel",
            "description_width": "",
            "_view_module": "@jupyter-widgets/base",
            "_model_module_version": "1.5.0",
            "_view_count": null,
            "_view_module_version": "1.2.0",
            "_model_module": "@jupyter-widgets/controls"
          }
        },
        "9e8d9dc176d5403a9d066b8b1e8dd8ab": {
          "model_module": "@jupyter-widgets/base",
          "model_name": "LayoutModel",
          "model_module_version": "1.2.0",
          "state": {
            "_view_name": "LayoutView",
            "grid_template_rows": null,
            "right": null,
            "justify_content": null,
            "_view_module": "@jupyter-widgets/base",
            "overflow": null,
            "_model_module_version": "1.2.0",
            "_view_count": null,
            "flex_flow": null,
            "width": null,
            "min_width": null,
            "border": null,
            "align_items": null,
            "bottom": null,
            "_model_module": "@jupyter-widgets/base",
            "top": null,
            "grid_column": null,
            "overflow_y": null,
            "overflow_x": null,
            "grid_auto_flow": null,
            "grid_area": null,
            "grid_template_columns": null,
            "flex": null,
            "_model_name": "LayoutModel",
            "justify_items": null,
            "grid_row": null,
            "max_height": null,
            "align_content": null,
            "visibility": null,
            "align_self": null,
            "height": null,
            "min_height": null,
            "padding": null,
            "grid_auto_rows": null,
            "grid_gap": null,
            "max_width": null,
            "order": null,
            "_view_module_version": "1.2.0",
            "grid_template_areas": null,
            "object_position": null,
            "object_fit": null,
            "grid_auto_columns": null,
            "margin": null,
            "display": null,
            "left": null
          }
        }
      }
    }
  },
  "cells": [
    {
      "cell_type": "markdown",
      "metadata": {
        "id": "view-in-github",
        "colab_type": "text"
      },
      "source": [
        "<a href=\"https://colab.research.google.com/github/mdsalem17/scientific-guide-notebooks/blob/main/Evaluating_Unbiasing_GANs/PPL_Evaluation.ipynb\" target=\"_parent\"><img src=\"https://colab.research.google.com/assets/colab-badge.svg\" alt=\"Open In Colab\"/></a>"
      ]
    },
    {
      "cell_type": "markdown",
      "metadata": {
        "id": "E59lNZxQWdsn"
      },
      "source": [
        "# Evaluating GANs with Perceptual Path Length (PPL)\n",
        "Perceptual path length (PPL) was a metric that was introduced as part of [StyleGAN](https://arxiv.org/abs/1812.04948) to evaluate how well a generator manages to smoothly interpolate between points in its latent space. In essence, if we travel between two images produced by a generator on a straight line in the latent space, PPL measures the expected \"jarringness\" of each step in the interpolation when we add together the jarringness of steps from random paths. In this notebook, we'll walk through the motivation and mechanism behind PPL.\n",
        "\n",
        "The [StyleGAN2](https://arxiv.org/abs/1912.04958) paper noted that metric also \"correlates with consistency and stability of shapes,\" which led to one of the major changes between the two papers."
      ]
    },
    {
      "cell_type": "markdown",
      "metadata": {
        "id": "4iN67qBGbNFl"
      },
      "source": [
        "## Perceptual Similarity\n",
        "\n",
        "Like FID, which we learned about in previous notebook, PPL uses the feature embeddings of deep convolutional neural network. Specifically, the distance between two image embeddings as proposed in [The Unreasonable Effectiveness of Deep Features as a Perceptual Metric\n",
        "](https://arxiv.org/abs/1801.03924) by Zhang et al (CVPR 2018). In this approach, unlike in FID, a VGG16 network is used instead of an InceptionNet. \n",
        "\n",
        "Perceptual similarity is closely similar to the distance between two feature vectors, with one key difference: the features are passed through a learned transformation, which is trained to match human intuition on image similarity. Specifically, when shown two images with various transformations from a base image, the LPIPS (\"Learned Perceptual Image Patch Similarity\") metric is meant to have a lower distance for the image that people think is closer. \n",
        "\n",
        "![figure from perceptual similarity paper](https://salem.scientific-guide.com/wp-content/uploads/2021/11/perceptual_similarity_fig.jpeg)\n",
        "*Figure from [The Unreasonable Effectiveness of Deep Features as a Perceptual Metric\n",
        "](https://arxiv.org/abs/1801.03924), showing a source image in the center and two transformations of it. Humans generally found the right-side image more similar to the center image than the left-side image, and the LPIPS metric matches this.*\n"
      ]
    },
    {
      "cell_type": "markdown",
      "metadata": {
        "id": "Z8qliwUgdKlO"
      },
      "source": [
        "For our implementation, we can use the `lpips` [library](https://github.com/richzhang/PerceptualSimilarity), implemented by the authors of the perceptual similarity paper."
      ]
    },
    {
      "cell_type": "code",
      "metadata": {
        "id": "bYp5tBS7V9GI"
      },
      "source": [
        "!pip -q install lpips"
      ],
      "execution_count": 5,
      "outputs": []
    },
    {
      "cell_type": "code",
      "metadata": {
        "id": "K5WvVnySXguq",
        "colab": {
          "base_uri": "https://localhost:8080/",
          "height": 101,
          "referenced_widgets": [
            "23e977b664724208b994aa90a08e59a9",
            "739341c6e0f54a4fb2f042438f7dd661",
            "a42b33febcbd4e329f6ac67764f2cf6d",
            "4d736a42ecbc4190b6d6b702f90594b6",
            "bd21ccd33fd4453990377a83785c89be",
            "1ed77d1ab7a54656af2ed8cd0968fb30",
            "35c87a9031f1435a87afa0ed37e9c4fd",
            "b559a956953c4855bc7a682d56810854",
            "1fde1429e0aa4fcdbd842334a99dbf05",
            "6f5f8d15784941e5b74da032cf4cb1d4",
            "9e8d9dc176d5403a9d066b8b1e8dd8ab"
          ]
        },
        "outputId": "6a5cdc5c-a9b9-4e87-dc3b-7eec9203f0d4"
      },
      "source": [
        "import lpips\n",
        "loss_fn_vgg = lpips.LPIPS(net='vgg')"
      ],
      "execution_count": 8,
      "outputs": [
        {
          "output_type": "stream",
          "name": "stdout",
          "text": [
            "Setting up [LPIPS] perceptual loss: trunk [vgg], v[0.1], spatial [off]\n"
          ]
        },
        {
          "output_type": "stream",
          "name": "stderr",
          "text": [
            "Downloading: \"https://download.pytorch.org/models/vgg16-397923af.pth\" to /root/.cache/torch/hub/checkpoints/vgg16-397923af.pth\n"
          ]
        },
        {
          "output_type": "display_data",
          "data": {
            "application/vnd.jupyter.widget-view+json": {
              "model_id": "23e977b664724208b994aa90a08e59a9",
              "version_minor": 0,
              "version_major": 2
            },
            "text/plain": [
              "  0%|          | 0.00/528M [00:00<?, ?B/s]"
            ]
          },
          "metadata": {}
        },
        {
          "output_type": "stream",
          "name": "stdout",
          "text": [
            "Loading model from: /usr/local/lib/python3.7/dist-packages/lpips/weights/v0.1/vgg.pth\n"
          ]
        }
      ]
    },
    {
      "cell_type": "markdown",
      "metadata": {
        "id": "C3dtnNvkdMaH"
      },
      "source": [
        "We'll define our generator and a function to visualize the images."
      ]
    },
    {
      "cell_type": "code",
      "metadata": {
        "id": "7-MMYQ0TJUPn"
      },
      "source": [
        "import torch\n",
        "import numpy as np\n",
        "from torch import nn\n",
        "from tqdm.auto import tqdm\n",
        "from torchvision import transforms\n",
        "from torchvision.datasets import CelebA\n",
        "from torchvision.utils import make_grid\n",
        "from torch.utils.data import DataLoader\n",
        "import matplotlib.pyplot as plt\n",
        "\n",
        "class Generator(nn.Module):\n",
        "    '''\n",
        "    Generator Class\n",
        "    Values:\n",
        "        z_dim: the dimension of the noise vector, a scalar\n",
        "        im_chan: the number of channels of the output image, a scalar\n",
        "              (CelebA is rgb, so 3 is our default)\n",
        "        hidden_dim: the inner dimension, a scalar\n",
        "    '''\n",
        "    def __init__(self, z_dim=10, im_chan=3, hidden_dim=64):\n",
        "        super(Generator, self).__init__()\n",
        "        self.z_dim = z_dim\n",
        "        # Build the neural network\n",
        "        self.gen = nn.Sequential(\n",
        "            self.make_gen_block(z_dim, hidden_dim * 8),\n",
        "            self.make_gen_block(hidden_dim * 8, hidden_dim * 4),\n",
        "            self.make_gen_block(hidden_dim * 4, hidden_dim * 2),\n",
        "            self.make_gen_block(hidden_dim * 2, hidden_dim),\n",
        "            self.make_gen_block(hidden_dim, im_chan, kernel_size=4, final_layer=True),\n",
        "        )\n",
        "\n",
        "    def make_gen_block(self, input_channels, output_channels, kernel_size=3, stride=2, final_layer=False):\n",
        "        '''\n",
        "        Function to return a sequence of operations corresponding to a generator block of DCGAN;\n",
        "        a transposed convolution, a batchnorm (except in the final layer), and an activation.\n",
        "        Parameters:\n",
        "            input_channels: how many channels the input feature representation has\n",
        "            output_channels: how many channels the output feature representation should have\n",
        "            kernel_size: the size of each convolutional filter, equivalent to (kernel_size, kernel_size)\n",
        "            stride: the stride of the convolution\n",
        "            final_layer: a boolean, true if it is the final layer and false otherwise \n",
        "                      (affects activation and batchnorm)\n",
        "        '''\n",
        "        if not final_layer:\n",
        "            return nn.Sequential(\n",
        "                nn.ConvTranspose2d(input_channels, output_channels, kernel_size, stride),\n",
        "                nn.BatchNorm2d(output_channels),\n",
        "                nn.ReLU(inplace=True),\n",
        "            )\n",
        "        else:\n",
        "            return nn.Sequential(\n",
        "                nn.ConvTranspose2d(input_channels, output_channels, kernel_size, stride),\n",
        "                nn.Tanh(),\n",
        "            )\n",
        "\n",
        "    def forward(self, noise):\n",
        "        '''\n",
        "        Function for completing a forward pass of the generator: Given a noise tensor, \n",
        "        returns generated images.\n",
        "        Parameters:\n",
        "            noise: a noise tensor with dimensions (n_samples, z_dim)\n",
        "        '''\n",
        "        x = noise.view(len(noise), self.z_dim, 1, 1)\n",
        "        return self.gen(x)\n",
        "\n",
        "def show_tensor_images(image_tensor, num_images=16, size=(3, 64, 64), nrow=3):\n",
        "    '''\n",
        "    Function for visualizing images: Given a tensor of images, number of images,\n",
        "    size per image, and images per row, plots and prints the images in an uniform grid.\n",
        "    '''\n",
        "    image_tensor = (image_tensor + 1) / 2\n",
        "    image_unflat = image_tensor.detach().cpu()\n",
        "    image_grid = make_grid(image_unflat[:num_images], nrow=nrow)\n",
        "    plt.imshow(image_grid.permute(1, 2, 0).squeeze())\n",
        "    plt.show()\n",
        "\n"
      ],
      "execution_count": 9,
      "outputs": []
    },
    {
      "cell_type": "markdown",
      "metadata": {
        "id": "yYEEnNd9eEfK"
      },
      "source": [
        "We'll also load a generator, pre-trained on CelebA.  The models and the dataset can be found in this [directory](https://drive.google.com/drive/folders/1ReeDlu90IkMa1PXJqfnhLwlyt2KQV6qI?usp=sharing)."
      ]
    },
    {
      "cell_type": "code",
      "metadata": {
        "colab": {
          "base_uri": "https://localhost:8080/"
        },
        "id": "fMvvbTY3U-EG",
        "outputId": "80cdc8cc-b47e-450a-a643-a581270c9f1b"
      },
      "source": [
        "from google.colab import drive\n",
        "drive.mount('/content/drive/', force_remount=True)\n",
        "path = \"/content/drive/MyDrive/scientific-guide-notebooks/GAN_notebooks/Evaluating_Unbiasing_GANs/evaluation/\""
      ],
      "execution_count": 2,
      "outputs": [
        {
          "output_type": "stream",
          "name": "stdout",
          "text": [
            "Mounted at /content/drive/\n"
          ]
        }
      ]
    },
    {
      "cell_type": "code",
      "metadata": {
        "id": "CtVG_KuWKrSk"
      },
      "source": [
        "z_dim = 64\n",
        "gen = Generator(z_dim)\n",
        "gen.load_state_dict(torch.load(path+\"pretrained_celeba.pth\", map_location='cpu')[\"gen\"])\n",
        "gen = gen.eval()"
      ],
      "execution_count": 10,
      "outputs": []
    },
    {
      "cell_type": "markdown",
      "metadata": {
        "id": "i8U05PqAgg1_"
      },
      "source": [
        "## From LPIPS to PPL\n",
        "Note that perceptual path length builds directly on the LPIPS metric.\n",
        "\n",
        "As we'll see later(maybe), StyleGAN does not operate directly on the randomly sampled latent vector. Instead, it learns a mapping $f$ from $z$ to $w$ -- that is, $f(z) = w$. All we need to know is that there are two spaces over which we can calculate PPL. \n",
        "\n",
        "### Linear Interpolation ($w$-space)\n",
        "\n",
        "For the $w$ space, PPL is defined as follows using linear interpolation:\n",
        "\n",
        "First, we sample two points in $w$-space, $w_1 = f(z_1)$ and $w_2 = f(z_2)$, from two randomly sampled points in $z$-space. For simplicity, we'll let $f$ be the identity function here."
      ]
    },
    {
      "cell_type": "code",
      "metadata": {
        "id": "xPc_Vc1Aq51M"
      },
      "source": [
        "map_fn = nn.Identity()\n",
        "w_1, w_2 = map_fn(torch.randn(1, z_dim)), map_fn(torch.randn(1, z_dim))"
      ],
      "execution_count": 11,
      "outputs": []
    },
    {
      "cell_type": "markdown",
      "metadata": {
        "id": "cNT1a2F_q_EY"
      },
      "source": [
        "We will use our generator to produce two images interpolating between $w_1$ and $w_2$, where the amount of $w_1$ is $t$, one where the amount of $w_1$ is $t+\\epsilon$. We can think of $t$ as sampling a random point along the path interpolating between $w_1$ and $w_2$.\n",
        "\n",
        "We can use the `torch.lerp` function for linear interpolation, and sample a random $t$ uniformly from 0 to 1 using `torch.rand`. Also, here we can set $\\epsilon = 2 \\cdot 10^{-1}$ for visualization, even though in the StyleGAN paper $\\epsilon = 10^{-4}$.\n"
      ]
    },
    {
      "cell_type": "code",
      "metadata": {
        "id": "NY8BDhghrMSC"
      },
      "source": [
        "eps = 2e-1\n",
        "t = torch.rand(1)\n",
        "interpolated_1 = torch.lerp(w_1, w_2, t)\n",
        "interpolated_2 = torch.lerp(w_1, w_2, t + eps)\n",
        "y_1, y_2 = gen(interpolated_1), gen(interpolated_2)"
      ],
      "execution_count": 12,
      "outputs": []
    },
    {
      "cell_type": "markdown",
      "metadata": {
        "id": "4ROUxbhKtPPl"
      },
      "source": [
        "Now we can visualize these images and evaluate their LPIPS:"
      ]
    },
    {
      "cell_type": "code",
      "metadata": {
        "colab": {
          "base_uri": "https://localhost:8080/",
          "height": 238
        },
        "id": "Gv4NHfwytSQO",
        "outputId": "476f697e-3f5a-4d56-af99-dbdcd3cfbef9"
      },
      "source": [
        "show_tensor_images(torch.cat([y_1, y_2]))\n",
        "cur_lpips = loss_fn_vgg(y_1, y_2).item()\n",
        "print(f\"Image LPIPS is {cur_lpips}\")"
      ],
      "execution_count": 13,
      "outputs": [
        {
          "output_type": "display_data",
          "data": {
            "image/png": "[encoded data removed]",
            "text/plain": [
              "<Figure size 432x288 with 1 Axes>"
            ]
          },
          "metadata": {
            "needs_background": "light"
          }
        },
        {
          "output_type": "stream",
          "name": "stdout",
          "text": [
            "Image LPIPS is 0.16149985790252686\n"
          ]
        }
      ]
    },
    {
      "cell_type": "markdown",
      "metadata": {
        "id": "ziEo3_fAvbeU"
      },
      "source": [
        "Finally, we need to account for the impact of different values of $\\epsilon$, so that the perceptual path length converges as $\\epsilon\\rightarrow \\infty$. In order to do this, PPL divides by $\\epsilon^2$. "
      ]
    },
    {
      "cell_type": "code",
      "metadata": {
        "colab": {
          "base_uri": "https://localhost:8080/"
        },
        "id": "Bi8kpsQSvaxA",
        "outputId": "c67b1214-9a8e-4d8b-c52e-2c0b4249f19a"
      },
      "source": [
        "ppl = cur_lpips / (eps ** 2)\n",
        "print(f\"Our final sample PPL is {ppl}\")"
      ],
      "execution_count": 14,
      "outputs": [
        {
          "output_type": "stream",
          "name": "stdout",
          "text": [
            "Our final sample PPL is 4.0374964475631705\n"
          ]
        }
      ]
    },
    {
      "cell_type": "markdown",
      "metadata": {
        "id": "FmQn8hA-uMds"
      },
      "source": [
        "This leaves us with the following overall equation: \n",
        "\n",
        "$$PPL_{w} = \\mathbb{E}\\left[\\frac{1}{\\epsilon^2} \\mathop{d_{\\mathrm{LPIPS}}}\\left(\\mathop{\\mathrm{G}}\\left(\\mathrm{lerp}(w_1, w_2, t\\right), \\mathop{\\mathrm{G}}\\left(\\mathrm{lerp}(w_1, w_2, t + \\epsilon\\right)\\right)\\right]$$\n",
        "\n",
        "We'll notice the expectation symbol: that's because this is all repeated many times in order to approximate PPL."
      ]
    },
    {
      "cell_type": "code",
      "metadata": {
        "colab": {
          "base_uri": "https://localhost:8080/"
        },
        "id": "0O3EW18BvvR9",
        "outputId": "f2a6766c-e9bd-48c4-a855-f0731a6b7351"
      },
      "source": [
        "def ppl_w(gen, map_fn, num_samples=10, eps=1e-4):\n",
        "    \"\"\"\n",
        "    Perceptual path length function: Combines the above steps into one PPL function\n",
        "    \"\"\"\n",
        "    # Sample of a batch of num_samples pairs of points\n",
        "    w_1 = map_fn(torch.randn(num_samples, z_dim))\n",
        "    w_2 = map_fn(torch.randn(num_samples, z_dim))\n",
        "    # Sample num_samples points along the interpolated lines\n",
        "    t = torch.rand(num_samples)[:, None]\n",
        "    # Interpolate between the points\n",
        "    interpolated_1 = torch.lerp(w_1, w_2, t)\n",
        "    interpolated_2 = torch.lerp(w_1, w_2, t + eps)\n",
        "    # Generated the interpolated images\n",
        "    y_1, y_2 = gen(interpolated_1), gen(interpolated_2)\n",
        "    # Calculate the per-sample LPIPS\n",
        "    cur_lpips = loss_fn_vgg(y_1, y_2)\n",
        "    # Calculate the PPL from the LPIPS\n",
        "    ppl = cur_lpips / (eps ** 2)\n",
        "    return ppl.mean()\n",
        "\n",
        "print(f\"PPL_w: {ppl_w(gen, nn.Identity()).item()}\")"
      ],
      "execution_count": 15,
      "outputs": [
        {
          "output_type": "stream",
          "name": "stdout",
          "text": [
            "PPL_w: 14.886174201965332\n"
          ]
        }
      ]
    },
    {
      "cell_type": "markdown",
      "metadata": {
        "id": "61pXUnEmySnl"
      },
      "source": [
        "### Spherical Interpolation ($z$-space)\n",
        "\n",
        "Because we sample points in $z$ from a Gaussian, we use spherical interpolation instead of linear interpolation to interpolate in $z$-space. We can use `scipy.spatial.geometric_slerp` for this.\n",
        "\n",
        "$$slerp(z_1, z_2, t) = \\frac{\\sin[(1 - t) \\cdot \\Omega]}{\\sin\\Omega} z_1 + \\frac{\\sin[t \\cdot \\Omega]}{\\sin\\Omega} z_2$$\n",
        "\n",
        "where $ \\Omega = \\cos^{-1}(\\mathrm{dot}(\\bar{z}_1, \\bar{z}_2))$ and $\\bar{x}$ denotes the normalized version of x."
      ]
    },
    {
      "cell_type": "code",
      "metadata": {
        "colab": {
          "base_uri": "https://localhost:8080/"
        },
        "id": "7RDUdRkN2m2w",
        "outputId": "ebec86f4-17a8-4d90-9290-e06832e6a34f"
      },
      "source": [
        "def normalize(x):\n",
        "    return x / torch.norm(x, dim=1)[:, None]\n",
        "\n",
        "def get_omega(x, y):\n",
        "    return torch.acos((normalize(x) * normalize(y)).sum(1))\n",
        "\n",
        "def slerp(x, y, t):\n",
        "    omega = get_omega(x, y)[:, None]\n",
        "    c1 = torch.sin(omega * (1 - t)) / torch.sin(omega)\n",
        "    c2 = torch.sin(omega * t) / torch.sin(omega)\n",
        "    return c1 * x + c2 * y\n",
        "\n",
        "def ppl_z(gen, num_samples=10, eps=1e-4):\n",
        "    # Sample of a batch of num_samples pairs of points\n",
        "    z_1 = torch.randn(num_samples, z_dim)\n",
        "    z_2 = torch.randn(num_samples, z_dim)\n",
        "    # Sample num_samples points along the interpolated lines\n",
        "    t = torch.rand(num_samples)[:, None]\n",
        "    # Interpolate between the points\n",
        "    interpolated_1 = slerp(z_1, z_2, t)\n",
        "    interpolated_2 = slerp(z_1, z_2, t + eps)\n",
        "    # Generated the interpolated images\n",
        "    y_1, y_2 = gen(interpolated_1), gen(interpolated_2)\n",
        "    # Calculate the per-sample LPIPS\n",
        "    cur_lpips = loss_fn_vgg(y_1, y_2)\n",
        "    # Calculate the PPL from the LPIPS\n",
        "    ppl = cur_lpips / (eps ** 2)\n",
        "    return ppl.mean()\n",
        "\n",
        "print(f\"PPL_z: {ppl_z(gen).item()}\")"
      ],
      "execution_count": 16,
      "outputs": [
        {
          "output_type": "stream",
          "name": "stdout",
          "text": [
            "PPL_z: 14.896768569946289\n"
          ]
        }
      ]
    }
  ]
}