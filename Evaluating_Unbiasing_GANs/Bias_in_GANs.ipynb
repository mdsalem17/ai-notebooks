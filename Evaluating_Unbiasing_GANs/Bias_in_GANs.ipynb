{
  "nbformat": 4,
  "nbformat_minor": 0,
  "metadata": {
    "accelerator": "GPU",
    "colab": {
      "name": "Bias_in_GANs.ipynb",
      "provenance": [],
      "collapsed_sections": [],
      "include_colab_link": true
    },
    "coursera": {
      "schema_names": [
        "GANSC2-2A"
      ]
    },
    "kernelspec": {
      "display_name": "Python 3",
      "language": "python",
      "name": "python3"
    },
    "language_info": {
      "codemirror_mode": {
        "name": "ipython",
        "version": 3
      },
      "file_extension": ".py",
      "mimetype": "text/x-python",
      "name": "python",
      "nbconvert_exporter": "python",
      "pygments_lexer": "ipython3",
      "version": "3.6.9"
    }
  },
  "cells": [
    {
      "cell_type": "markdown",
      "metadata": {
        "id": "view-in-github",
        "colab_type": "text"
      },
      "source": [
        "<a href=\"https://colab.research.google.com/github/mdsalem17/scientific-guide-notebooks/blob/main/Evaluating_Unbiasing_GANs/Bias_in_GANs.ipynb\" target=\"_parent\"><img src=\"https://colab.research.google.com/assets/colab-badge.svg\" alt=\"Open In Colab\"/></a>"
      ]
    },
    {
      "cell_type": "markdown",
      "metadata": {
        "id": "gtuicEyI9znr"
      },
      "source": [
        "# Bias"
      ]
    },
    {
      "cell_type": "markdown",
      "metadata": {
        "id": "CzKJcDsE93Ko"
      },
      "source": [
        "### Introduction\n",
        "In this notebook, we're going to explore a way to identify some biases of a GAN using a classifier, in a way that's well-suited for attempting to make a model independent of an input. Note that not all biases are as obvious as the ones we will see here."
      ]
    },
    {
      "cell_type": "markdown",
      "metadata": {
        "id": "a5Qyl-AnEww0"
      },
      "source": [
        "\n",
        "## Challenges\n",
        "\n",
        "One major challenge in assessing bias in GANs is that we still want our generator to be able to generate examples of different values of a protected class—the class we would like to mitigate bias against. While a classifier can be optimized to have its output be independent of a protected class, a generator which generates faces should be able to generate examples of various protected class values. \n",
        "\n",
        "When we generate examples with various values of a protected class, we don’t want those examples to correspond to any properties that aren’t strictly a function of that protected class. This is made especially difficult since many protected classes (e.g. gender or ethnicity) are social constructs, and what properties count as “a function of that protected class” will vary depending on who we ask. It’s certainly a hard balance to strike.\n",
        "\n",
        "Moreover, a protected class is rarely used to condition a GAN explicitly, so it is often necessary to resort to somewhat post-hoc methods (e.g. using a classifier trained on relevant features, which might be biased itself). \n",
        "\n",
        "In this notebook, we will learn one approach to detect potential bias, by analyzing correlations in feature classifications on the generated images. "
      ]
    },
    {
      "cell_type": "markdown",
      "metadata": {
        "id": "wEX6YjIbYLFC"
      },
      "source": [
        "## Getting Started\n",
        "\n",
        "As we have done previously, we will start by importing some useful libraries and defining a visualization function for our images. We will also use the same generator and basic classifier from previous notebooks."
      ]
    },
    {
      "cell_type": "markdown",
      "metadata": {
        "id": "_xe0xOhIQswC"
      },
      "source": [
        "#### Packages and Visualization"
      ]
    },
    {
      "cell_type": "code",
      "metadata": {
        "id": "7_10LYXRsrWo"
      },
      "source": [
        "import torch\n",
        "import numpy as np\n",
        "from torch import nn\n",
        "from tqdm.auto import tqdm\n",
        "from torchvision import transforms\n",
        "from torchvision.utils import make_grid\n",
        "from torchvision.datasets import CelebA\n",
        "from torch.utils.data import DataLoader\n",
        "import matplotlib.pyplot as plt\n",
        "torch.manual_seed(0) # Set for our testing purposes, please do not change!\n",
        "\n",
        "def show_tensor_images(image_tensor, num_images=16, size=(3, 64, 64), nrow=3):\n",
        "    '''\n",
        "    Function for visualizing images: Given a tensor of images, number of images,\n",
        "    size per image, and images per row, plots and prints the images in an uniform grid.\n",
        "    '''\n",
        "    image_tensor = (image_tensor + 1) / 2\n",
        "    image_unflat = image_tensor.detach().cpu()\n",
        "    image_grid = make_grid(image_unflat[:num_images], nrow=nrow)\n",
        "    plt.imshow(image_grid.permute(1, 2, 0).squeeze())\n",
        "    plt.show()"
      ],
      "execution_count": 1,
      "outputs": []
    },
    {
      "cell_type": "markdown",
      "metadata": {
        "id": "zv9hWdknQziZ"
      },
      "source": [
        "#### Generator and Noise"
      ]
    },
    {
      "cell_type": "code",
      "metadata": {
        "id": "3zYUIaz6Qz9_"
      },
      "source": [
        "class Generator(nn.Module):\n",
        "    '''\n",
        "    Generator Class\n",
        "    Values:\n",
        "        z_dim: the dimension of the noise vector, a scalar\n",
        "        im_chan: the number of channels in the images, fitted for the dataset used, a scalar\n",
        "              (CelebA is rgb, so 3 is our default)\n",
        "        hidden_dim: the inner dimension, a scalar\n",
        "    '''\n",
        "    def __init__(self, z_dim=10, im_chan=3, hidden_dim=64):\n",
        "        super(Generator, self).__init__()\n",
        "        self.z_dim = z_dim\n",
        "        # Build the neural network\n",
        "        self.gen = nn.Sequential(\n",
        "            self.make_gen_block(z_dim, hidden_dim * 8),\n",
        "            self.make_gen_block(hidden_dim * 8, hidden_dim * 4),\n",
        "            self.make_gen_block(hidden_dim * 4, hidden_dim * 2),\n",
        "            self.make_gen_block(hidden_dim * 2, hidden_dim),\n",
        "            self.make_gen_block(hidden_dim, im_chan, kernel_size=4, final_layer=True),\n",
        "        )\n",
        "\n",
        "    def make_gen_block(self, input_channels, output_channels, kernel_size=3, stride=2, final_layer=False):\n",
        "        '''\n",
        "        Function to return a sequence of operations corresponding to a generator block of DCGAN;\n",
        "        a transposed convolution, a batchnorm (except in the final layer), and an activation.\n",
        "        Parameters:\n",
        "            input_channels: how many channels the input feature representation has\n",
        "            output_channels: how many channels the output feature representation should have\n",
        "            kernel_size: the size of each convolutional filter, equivalent to (kernel_size, kernel_size)\n",
        "            stride: the stride of the convolution\n",
        "            final_layer: a boolean, true if it is the final layer and false otherwise \n",
        "                      (affects activation and batchnorm)\n",
        "        '''\n",
        "        if not final_layer:\n",
        "            return nn.Sequential(\n",
        "                nn.ConvTranspose2d(input_channels, output_channels, kernel_size, stride),\n",
        "                nn.BatchNorm2d(output_channels),\n",
        "                nn.ReLU(inplace=True),\n",
        "            )\n",
        "        else:\n",
        "            return nn.Sequential(\n",
        "                nn.ConvTranspose2d(input_channels, output_channels, kernel_size, stride),\n",
        "                nn.Tanh(),\n",
        "            )\n",
        "\n",
        "    def forward(self, noise):\n",
        "        '''\n",
        "        Function for completing a forward pass of the generator: Given a noise tensor, \n",
        "        returns generated images.\n",
        "        Parameters:\n",
        "            noise: a noise tensor with dimensions (n_samples, z_dim)\n",
        "        '''\n",
        "        x = noise.view(len(noise), self.z_dim, 1, 1)\n",
        "        return self.gen(x)\n",
        "\n",
        "def get_noise(n_samples, z_dim, device='cpu'):\n",
        "    '''\n",
        "    Function for creating noise vectors: Given the dimensions (n_samples, z_dim)\n",
        "    creates a tensor of that shape filled with random numbers from the normal distribution.\n",
        "    Parameters:\n",
        "        n_samples: the number of samples to generate, a scalar\n",
        "        z_dim: the dimension of the noise vector, a scalar\n",
        "        device: the device type\n",
        "    '''\n",
        "    return torch.randn(n_samples, z_dim, device=device)"
      ],
      "execution_count": 2,
      "outputs": []
    },
    {
      "cell_type": "markdown",
      "metadata": {
        "id": "KeSVrnG1RAy4"
      },
      "source": [
        "#### Classifier"
      ]
    },
    {
      "cell_type": "code",
      "metadata": {
        "id": "VqF54g4qRD-X"
      },
      "source": [
        "class Classifier(nn.Module):\n",
        "    '''\n",
        "    Classifier Class\n",
        "    Values:\n",
        "        im_chan: the number of channels in the images, fitted for the dataset used, a scalar\n",
        "              (CelebA is rgb, so 3 is our default)\n",
        "        n_classes: the total number of classes in the dataset, an integer scalar\n",
        "        hidden_dim: the inner dimension, a scalar\n",
        "    '''\n",
        "    def __init__(self, im_chan=3, n_classes=2, hidden_dim=64):\n",
        "        super(Classifier, self).__init__()\n",
        "        self.classifier = nn.Sequential(\n",
        "            self.make_classifier_block(im_chan, hidden_dim),\n",
        "            self.make_classifier_block(hidden_dim, hidden_dim * 2),\n",
        "            self.make_classifier_block(hidden_dim * 2, hidden_dim * 4, stride=3),\n",
        "            self.make_classifier_block(hidden_dim * 4, n_classes, final_layer=True),\n",
        "        )\n",
        "\n",
        "    def make_classifier_block(self, input_channels, output_channels, kernel_size=4, stride=2, final_layer=False):\n",
        "        '''\n",
        "        Function to return a sequence of operations corresponding to a classifier block; \n",
        "        a convolution, a batchnorm (except in the final layer), and an activation (except in the final layer).\n",
        "        Parameters:\n",
        "            input_channels: how many channels the input feature representation has\n",
        "            output_channels: how many channels the output feature representation should have\n",
        "            kernel_size: the size of each convolutional filter, equivalent to (kernel_size, kernel_size)\n",
        "            stride: the stride of the convolution\n",
        "            final_layer: a boolean, true if it is the final layer and false otherwise \n",
        "                      (affects activation and batchnorm)\n",
        "        '''\n",
        "        if not final_layer:\n",
        "            return nn.Sequential(\n",
        "                nn.Conv2d(input_channels, output_channels, kernel_size, stride),\n",
        "                nn.BatchNorm2d(output_channels),\n",
        "                nn.LeakyReLU(0.2, inplace=True),\n",
        "            )\n",
        "        else:\n",
        "            return nn.Sequential(\n",
        "                nn.Conv2d(input_channels, output_channels, kernel_size, stride),\n",
        "            )\n",
        "\n",
        "    def forward(self, image):\n",
        "        '''\n",
        "        Function for completing a forward pass of the classifier: Given an image tensor, \n",
        "        returns an n_classes-dimension tensor representing classes.\n",
        "        Parameters:\n",
        "            image: a flattened image tensor with im_chan channels\n",
        "        '''\n",
        "        class_pred = self.classifier(image)\n",
        "        return class_pred.view(len(class_pred), -1)"
      ],
      "execution_count": 3,
      "outputs": []
    },
    {
      "cell_type": "markdown",
      "metadata": {
        "id": "ZKyIEkWnYZ6J"
      },
      "source": [
        "## Specifying Parameters\n",
        "We will also need to specify a few parameters before we begin training:\n",
        "  *   z_dim: the dimension of the noise vector\n",
        "  *   batch_size: the number of images per forward/backward pass\n",
        "  *   device: the device type"
      ]
    },
    {
      "cell_type": "code",
      "metadata": {
        "id": "-GLwMw2v8Vat"
      },
      "source": [
        "z_dim = 64\n",
        "batch_size = 128\n",
        "device = 'cuda'"
      ],
      "execution_count": 4,
      "outputs": []
    },
    {
      "cell_type": "markdown",
      "metadata": {
        "id": "HSNXcCTfYVzY"
      },
      "source": [
        "## Train a Classifier (Optional)\n",
        "\n",
        "We can train our own classifier with this code below. Instead we will use a pre-trained one based on this architecture here which we can load and use in the next section. "
      ]
    },
    {
      "cell_type": "code",
      "metadata": {
        "id": "HwBG8BGq64OJ"
      },
      "source": [
        "# We can run this code to train our own classifier, but there is a provided pre-trained one \n",
        "# If we'd like to use this, just run \"train_classifier(filename)\"\n",
        "# To train and save a classifier on the label indices to that filename\n",
        "def train_classifier(filename):\n",
        "    import seaborn as sns\n",
        "    import matplotlib.pyplot as plt\n",
        "\n",
        "    # We're going to target all the classes, so that's how many the classifier will learn\n",
        "    label_indices = range(40)\n",
        "\n",
        "    n_epochs = 3\n",
        "    display_step = 500\n",
        "    lr = 0.001\n",
        "    beta_1 = 0.5\n",
        "    beta_2 = 0.999\n",
        "    image_size = 64\n",
        "\n",
        "    transform = transforms.Compose([\n",
        "        transforms.Resize(image_size),\n",
        "        transforms.CenterCrop(image_size),\n",
        "        transforms.ToTensor(),\n",
        "        transforms.Normalize((0.5, 0.5, 0.5), (0.5, 0.5, 0.5)),\n",
        "    ])\n",
        "\n",
        "    dataloader = DataLoader(\n",
        "        CelebA(\".\", split='train', download=True, transform=transform),\n",
        "        batch_size=batch_size,\n",
        "        shuffle=True)\n",
        "\n",
        "    classifier = Classifier(n_classes=len(label_indices)).to(device)\n",
        "    class_opt = torch.optim.Adam(classifier.parameters(), lr=lr, betas=(beta_1, beta_2))\n",
        "    criterion = nn.BCEWithLogitsLoss()\n",
        "\n",
        "    cur_step = 0\n",
        "    classifier_losses = []\n",
        "    # classifier_val_losses = []\n",
        "    for epoch in range(n_epochs):\n",
        "        # Dataloader returns the batches\n",
        "        for real, labels in tqdm(dataloader):\n",
        "            real = real.to(device)\n",
        "            labels = labels[:, label_indices].to(device).float()\n",
        "\n",
        "            class_opt.zero_grad()\n",
        "            class_pred = classifier(real)\n",
        "            class_loss = criterion(class_pred, labels)\n",
        "            class_loss.backward() # Calculate the gradients\n",
        "            class_opt.step() # Update the weights\n",
        "            classifier_losses += [class_loss.item()] # Keep track of the average classifier loss\n",
        "\n",
        "            ### Visualization code ###\n",
        "            if cur_step % display_step == 0 and cur_step > 0:\n",
        "                class_mean = sum(classifier_losses[-display_step:]) / display_step\n",
        "                print(f\"Step {cur_step}: Classifier loss: {class_mean}\")\n",
        "                step_bins = 20\n",
        "                x_axis = sorted([i * step_bins for i in range(len(classifier_losses) // step_bins)] * step_bins)\n",
        "                sns.lineplot(x_axis, classifier_losses[:len(x_axis)], label=\"Classifier Loss\")\n",
        "                plt.legend()\n",
        "                plt.show()\n",
        "                torch.save({\"classifier\": classifier.state_dict()}, filename)\n",
        "            cur_step += 1\n",
        "\n",
        "# Uncomment the last line to train your own classfier\n",
        "# If we'd like to do this, we'll have to download it and run it, ideally using a GPU.\n",
        "# train_classifier(\"filename\")"
      ],
      "execution_count": 5,
      "outputs": []
    },
    {
      "cell_type": "markdown",
      "metadata": {
        "id": "Iu1TcEA3aSSI"
      },
      "source": [
        "## Loading the Pre-trained Models\n",
        "\n",
        "We can now load the pre-trained generator (trained on CelebA) and classifier using the following code. The models and the dataset can be found in this [directory](https://drive.google.com/drive/folders/1ReeDlu90IkMa1PXJqfnhLwlyt2KQV6qI?usp=sharing)."
      ]
    },
    {
      "cell_type": "code",
      "metadata": {
        "colab": {
          "base_uri": "https://localhost:8080/"
        },
        "id": "nhC7BG8zfTpv",
        "outputId": "9e9b60d4-aa05-4f1f-a7b8-324d4267ca07"
      },
      "source": [
        "from google.colab import drive\n",
        "drive.mount('/content/drive/', force_remount=True)\n",
        "path = \"/content/drive/MyDrive/scientific-guide-notebooks/GAN_notebooks/Evaluating_Unbiasing_GANs/bias/\""
      ],
      "execution_count": 6,
      "outputs": [
        {
          "output_type": "stream",
          "name": "stdout",
          "text": [
            "Mounted at /content/drive/\n"
          ]
        }
      ]
    },
    {
      "cell_type": "code",
      "metadata": {
        "colab": {
          "base_uri": "https://localhost:8080/"
        },
        "id": "OgrLujk_tYDu",
        "outputId": "618b68f6-f974-40b6-b133-9aeba441ce23"
      },
      "source": [
        "import torch\n",
        "gen = Generator(z_dim).to(device)\n",
        "gen_dict = torch.load(path+\"pretrained_celeba.pth\", map_location=torch.device(device))[\"gen\"]\n",
        "gen.load_state_dict(gen_dict)\n",
        "gen.eval()\n",
        "\n",
        "n_classes = 40\n",
        "classifier = Classifier(n_classes=n_classes).to(device)\n",
        "class_dict = torch.load(path+\"pretrained_classifier.pth\", map_location=torch.device(device))[\"classifier\"]\n",
        "classifier.load_state_dict(class_dict)\n",
        "classifier.eval()\n",
        "print(\"Loaded the models!\")\n",
        "\n",
        "opt = torch.optim.Adam(classifier.parameters(), lr=0.01)"
      ],
      "execution_count": 7,
      "outputs": [
        {
          "output_type": "stream",
          "name": "stdout",
          "text": [
            "Loaded the models!\n"
          ]
        }
      ]
    },
    {
      "cell_type": "markdown",
      "metadata": {
        "id": "AspUMgXOMS1b"
      },
      "source": [
        "## Feature Correlation\n",
        "Now we can generate images using the generator. By also using the classifier, we will be generating images with different amounts of the \"male\" feature."
      ]
    },
    {
      "cell_type": "code",
      "metadata": {
        "id": "kASNj6nLz7kh"
      },
      "source": [
        "# First we generate a bunch of fake images with the generator\n",
        "n_images = 256\n",
        "fake_image_history = []\n",
        "classification_history = []\n",
        "grad_steps = 30 # How many gradient steps to take\n",
        "skip = 2 # How many gradient steps to skip in the visualization\n",
        "\n",
        "feature_names = [\"5oClockShadow\", \"ArchedEyebrows\", \"Attractive\", \"BagsUnderEyes\", \"Bald\", \"Bangs\",\n",
        "\"BigLips\", \"BigNose\", \"BlackHair\", \"BlondHair\", \"Blurry\", \"BrownHair\", \"BushyEyebrows\", \"Chubby\",\n",
        "\"DoubleChin\", \"Eyeglasses\", \"Goatee\", \"GrayHair\", \"HeavyMakeup\", \"HighCheekbones\", \"Male\", \n",
        "\"MouthSlightlyOpen\", \"Mustache\", \"NarrowEyes\", \"NoBeard\", \"OvalFace\", \"PaleSkin\", \"PointyNose\", \n",
        "\"RecedingHairline\", \"RosyCheeks\", \"Sideburn\", \"Smiling\", \"StraightHair\", \"WavyHair\", \"WearingEarrings\", \n",
        "\"WearingHat\", \"WearingLipstick\", \"WearingNecklace\", \"WearingNecktie\", \"Weng\"]\n",
        "\n",
        "n_features = len(feature_names)\n",
        "# Set the target feature\n",
        "target_feature = \"Male\"\n",
        "target_indices = feature_names.index(target_feature)\n",
        "noise = get_noise(n_images, z_dim).to(device)\n",
        "new_noise = noise.clone().requires_grad_()\n",
        "starting_classifications = classifier(gen(new_noise)).cpu().detach()\n",
        "\n",
        "# Additive direction (more of a feature)\n",
        "for i in range(grad_steps):\n",
        "    opt.zero_grad()\n",
        "    fake = gen(new_noise)\n",
        "    fake_image_history += [fake]\n",
        "    classifications = classifier(fake)\n",
        "    classification_history += [classifications.cpu().detach()]\n",
        "    fake_classes = classifications[:, target_indices].mean()\n",
        "    fake_classes.backward()\n",
        "    new_noise.data += new_noise.grad / grad_steps\n",
        "\n",
        "# Subtractive direction (less of a feature)\n",
        "new_noise = noise.clone().requires_grad_()\n",
        "for i in range(grad_steps):\n",
        "    opt.zero_grad()\n",
        "    fake = gen(new_noise)\n",
        "    fake_image_history += [fake]\n",
        "    classifications = classifier(fake)\n",
        "    classification_history += [classifications.cpu().detach()]\n",
        "    fake_classes = classifications[:, target_indices].mean()\n",
        "    fake_classes.backward()\n",
        "    new_noise.data -= new_noise.grad / grad_steps\n",
        "\n",
        "classification_history = torch.stack(classification_history)"
      ],
      "execution_count": 8,
      "outputs": []
    },
    {
      "cell_type": "markdown",
      "metadata": {
        "id": "z7sGUfJlDZst"
      },
      "source": [
        "We've now generated image samples, which have increasing or decreasing amounts of the target feature. We can visualize the way in which that affects other classified features. The x-axis will show us the amount of change in our target feature and the y-axis shows how much the other features change, as detected in those images by the classifier. Together, we will be able to see the covariance of \"male-ness\" and other features.\n",
        "\n",
        "We are started off with a set of features that have interesting associations with \"male-ness\", but we can change the features in `other_features` with others from `feature_names`."
      ]
    },
    {
      "cell_type": "code",
      "metadata": {
        "colab": {
          "base_uri": "https://localhost:8080/",
          "height": 489
        },
        "id": "5Q0b24CHDX8A",
        "outputId": "69d09cba-cb9b-49d6-cb91-c60ecef2b38e"
      },
      "source": [
        "import seaborn as sns\n",
        "# Set the other features\n",
        "other_features = [\"Smiling\", \"Bald\", \"Weng\", \"HeavyMakeup\", \"Attractive\"]\n",
        "classification_changes = (classification_history - starting_classifications[None, :, :]).numpy()\n",
        "for other_feature in other_features:\n",
        "    other_indices = feature_names.index(other_feature)\n",
        "    with sns.axes_style(\"darkgrid\"):\n",
        "        sns.regplot(\n",
        "            classification_changes[:, :, target_indices].reshape(-1), \n",
        "            classification_changes[:, :, other_indices].reshape(-1), \n",
        "            fit_reg=True,\n",
        "            truncate=True,\n",
        "            ci=99,\n",
        "            x_ci=99,\n",
        "            x_bins=len(classification_history),\n",
        "            label=other_feature\n",
        "        )\n",
        "plt.xlabel(target_feature)\n",
        "plt.ylabel(\"Other Feature\")\n",
        "plt.title(f\"Generator Biases: Features vs {target_feature}-ness\")\n",
        "plt.legend(loc=1)\n",
        "plt.show()"
      ],
      "execution_count": 9,
      "outputs": [
        {
          "output_type": "stream",
          "name": "stderr",
          "text": [
            "/usr/local/lib/python3.7/dist-packages/seaborn/_decorators.py:43: FutureWarning: Pass the following variables as keyword args: x, y. From version 0.12, the only valid positional argument will be `data`, and passing other arguments without an explicit keyword will result in an error or misinterpretation.\n",
            "  FutureWarning\n",
            "/usr/local/lib/python3.7/dist-packages/seaborn/_decorators.py:43: FutureWarning: Pass the following variables as keyword args: x, y. From version 0.12, the only valid positional argument will be `data`, and passing other arguments without an explicit keyword will result in an error or misinterpretation.\n",
            "  FutureWarning\n",
            "/usr/local/lib/python3.7/dist-packages/seaborn/_decorators.py:43: FutureWarning: Pass the following variables as keyword args: x, y. From version 0.12, the only valid positional argument will be `data`, and passing other arguments without an explicit keyword will result in an error or misinterpretation.\n",
            "  FutureWarning\n",
            "/usr/local/lib/python3.7/dist-packages/seaborn/_decorators.py:43: FutureWarning: Pass the following variables as keyword args: x, y. From version 0.12, the only valid positional argument will be `data`, and passing other arguments without an explicit keyword will result in an error or misinterpretation.\n",
            "  FutureWarning\n",
            "/usr/local/lib/python3.7/dist-packages/seaborn/_decorators.py:43: FutureWarning: Pass the following variables as keyword args: x, y. From version 0.12, the only valid positional argument will be `data`, and passing other arguments without an explicit keyword will result in an error or misinterpretation.\n",
            "  FutureWarning\n"
          ]
        },
        {
          "output_type": "display_data",
          "data": {
            "image/png": "[encoded data removed]",
            "text/plain": [
              "<Figure size 432x288 with 1 Axes>"
            ]
          },
          "metadata": {}
        }
      ]
    },
    {
      "cell_type": "markdown",
      "metadata": {
        "id": "6QOuJWDfZzpK"
      },
      "source": [
        "This correlation detection can be used to reduce bias by penalizing this type of correlation in the loss during the training of the generator. However, currently there is no rigorous and accepted solution for debiasing GANs. A first step that we can take in the right direction comes before training the model: by making sure that our dataset is inclusive and representative, and by considering how we can mitigate the biases resulting from whatever data collection method we used—for example, getting a representative labelers for our task. \n",
        "\n",
        "It is important to note that, as highlighted by many researchers including [Timnit Gebru and Emily Denton](https://sites.google.com/view/fatecv-tutorial/schedule), a diverse dataset alone is not enough to eliminate bias. Even diverse datasets can reinforce existing structural biases by simply capturing common social biases. Mitigating these biases is an important and active area of research.\n",
        "\n",
        "#### Note on CelebA\n",
        "We may have noticed that there are obvious correlations between the feature we are using, \"male\", and other seemingly unrelated features, \"smiling\" and \"weng\" for example. This is because the CelebA dataset labels had no serious consideration for diversity. The data represents the biases of their labelers, the dataset creators, the social biases as a result of using a dataset based on American celebrities, and many others. Equipped with knowledge about bias, we trust that we will do better in the future datasets we create."
      ]
    },
    {
      "cell_type": "markdown",
      "metadata": {
        "id": "yHXjgqehz4vn"
      },
      "source": [
        "## Quantification\n",
        "Finally, we can also quantitatively evaluate the degree to which these factors covary. Given a target index, for example corresponding to \"male,\" we'll want to return the other features that covary with that target feature the most. We'll want to account for both large negative and positive covariances, and we'll want to avoid returning the target feature in our list of covarying features (since a feature will often have a high covariance with itself). We'll complete some helper functions first, each of which should be one or two lines long."
      ]
    },
    {
      "cell_type": "code",
      "metadata": {
        "colab": {
          "base_uri": "https://localhost:8080/"
        },
        "id": "9YMqIpj7e2Pj",
        "outputId": "c07d0a5c-3e9b-4a84-a521-f8f2365bb4b0"
      },
      "source": [
        "from torch.distributions import MultivariateNormal\n",
        "def covariance_matrix_from_examples(examples):\n",
        "    \"\"\"\n",
        "    Helper function for get_top_covariances to calculate a covariance matrix. \n",
        "    Parameter: examples: a list of steps corresponding to samples of shape (2 * grad_steps, n_images, n_features)\n",
        "    Returns: the (n_features, n_features) covariance matrix from the examples\n",
        "    \"\"\"\n",
        "    \n",
        "    return np.cov(examples.reshape(-1, examples.shape[2]), rowvar=False)\n",
        "\n",
        "mean = torch.Tensor([0, 0, 0, 0]) \n",
        "covariance = torch.Tensor( \n",
        "    [[10, 2, -0.5, -5],\n",
        "     [2, 11, 5, 4],\n",
        "     [-0.5, 5, 10, 2],\n",
        "     [-5, 4, 2, 11]]\n",
        ")\n",
        "samples = MultivariateNormal(mean, covariance).sample((60 * 128,))\n",
        "foo = samples.reshape(60, 128, samples.shape[-1]).numpy()\n",
        "assert np.all(np.abs(covariance_matrix_from_examples(foo) - covariance.numpy()) < 0.5)\n",
        "print(\"covariance_matrix_from_examples works!\")"
      ],
      "execution_count": 10,
      "outputs": [
        {
          "output_type": "stream",
          "name": "stdout",
          "text": [
            "covariance_matrix_from_examples works!\n"
          ]
        }
      ]
    },
    {
      "cell_type": "markdown",
      "metadata": {
        "id": "ExT9G3L3e2Pl"
      },
      "source": [
        "Now we'll write a helper function to return the indices of a numpy array in order of magnitude."
      ]
    },
    {
      "cell_type": "code",
      "metadata": {
        "colab": {
          "base_uri": "https://localhost:8080/"
        },
        "id": "ZZnt0siIe2Pl",
        "outputId": "f701e784-eda6-48a6-e904-f87272f2da78"
      },
      "source": [
        "def get_top_magnitude_indices(values):\n",
        "    \"\"\"\n",
        "    Helper function for get_top_covariances to get indices by magnitude. \n",
        "    Parameter: values, a list of values as a numpy array of shape (n_values)\n",
        "    Returns: numpy array of indices sorted from greatest to least by the magnitudes of their corresponding values\n",
        "    \"\"\"\n",
        "    \n",
        "    top_indices = np.abs(values).argsort()[::-1]\n",
        "    \n",
        "    return top_indices\n",
        "\n",
        "assert get_top_magnitude_indices([3, 2, 1, 0]).tolist() == [0, 1, 2, 3]\n",
        "assert get_top_magnitude_indices([-2, 0, 1]).tolist() == [0, 2, 1]\n",
        "print(\"get_top_magnitude_indices works!\")"
      ],
      "execution_count": 11,
      "outputs": [
        {
          "output_type": "stream",
          "name": "stdout",
          "text": [
            "get_top_magnitude_indices works!\n"
          ]
        }
      ]
    },
    {
      "cell_type": "markdown",
      "metadata": {
        "id": "A15zd5lge2Pm"
      },
      "source": [
        "Now we'll write a helper function to return a list with an element removed by the value, in an unchanged order. In this case, we won't have to remove any values multiple times, so don't worry about how we handle multiple examples."
      ]
    },
    {
      "cell_type": "code",
      "metadata": {
        "colab": {
          "base_uri": "https://localhost:8080/"
        },
        "id": "yNLtyXlje2Pn",
        "outputId": "2ad260b3-846e-4501-e2a2-38abc551a53e"
      },
      "source": [
        "def remove_from_list(indices, index_to_remove):\n",
        "    \"\"\"\n",
        "    Helper function for get_top_covariances to remove an index from an array. \n",
        "    Parameter: indices, a list of indices as a numpy array of shape (n_indices)\n",
        "    Returns: the numpy array of indices in the same order without index_to_remove\n",
        "    \"\"\"\n",
        "    \n",
        "    new_indices = np.delete(indices, np.where(indices ==index_to_remove))\n",
        "    \n",
        "    return new_indices\n",
        "assert remove_from_list(np.array([3, 2, 1, 0]), 1).tolist() == [3, 2, 0]\n",
        "print(\"remove_from_list works!\")"
      ],
      "execution_count": 12,
      "outputs": [
        {
          "output_type": "stream",
          "name": "stdout",
          "text": [
            "remove_from_list works!\n"
          ]
        }
      ]
    },
    {
      "cell_type": "markdown",
      "metadata": {
        "id": "M6hTuA5ce2Po"
      },
      "source": [
        "Now, we can put the above helper functions together."
      ]
    },
    {
      "cell_type": "code",
      "metadata": {
        "id": "ZqoowVhFGzOH"
      },
      "source": [
        "def get_top_covariances(classification_changes, target_index, top_n=10):\n",
        "    '''\n",
        "    Function for getting the top n covariances: Given a list of classification changes\n",
        "    and the index of the target feature, returns \n",
        "    (1) relevant_indices: a list or tensor (numpy or torch) of the indices corresponding \n",
        "        to the n features that covary most with the target in terms of absolute covariance\n",
        "    (2) highest_covariances: a list or tensor of the degrees to which they covary.\n",
        "    Parameters:\n",
        "        classification_changes: relative changes in classifications of each generated image \n",
        "          resulting from optimizing the target feature (see above for a visualization)\n",
        "        target_index: the index of the target feature, a scalar\n",
        "        top_n: the top most number of elements to return, default is 10\n",
        "    '''\n",
        "\n",
        "    covariance_matrix = covariance_matrix_from_examples(classification_changes)\n",
        "    \n",
        "    relevant_indices = get_top_magnitude_indices(covariance_matrix[target_index, :])\n",
        "    relevant_indices = remove_from_list(relevant_indices, target_index)[:top_n]\n",
        "    \n",
        "    highest_covariances = covariance_matrix[:, relevant_indices][target_index]\n",
        "    \n",
        "    return relevant_indices, highest_covariances"
      ],
      "execution_count": 13,
      "outputs": []
    },
    {
      "cell_type": "code",
      "metadata": {
        "colab": {
          "base_uri": "https://localhost:8080/"
        },
        "id": "Qq3s96Iwe2Pp",
        "outputId": "113f0014-571c-44e0-f29a-c09189f04249"
      },
      "source": [
        "# UNIT TEST\n",
        "from torch.distributions import MultivariateNormal\n",
        "mean = torch.Tensor([0, 0, 0, 0]) \n",
        "covariance = torch.Tensor( \n",
        "    [[10, 2, -0.5, -5],\n",
        "     [2, 11, 5, 4],\n",
        "     [-0.5, 5, 10, 2],\n",
        "     [-5, 4, 2, 11]]\n",
        ")\n",
        "independent_dist = MultivariateNormal(mean, covariance)\n",
        "samples = independent_dist.sample((60 * 128,))\n",
        "foo = samples.reshape(60, 128, samples.shape[-1])\n",
        "\n",
        "relevant_indices, highest_covariances = get_top_covariances(foo, 1, top_n=3)\n",
        "assert (tuple(relevant_indices) == (2, 3, 0)), \"Make sure we're getting the greatest, not the least covariances\"\n",
        "assert np.all(np.abs(highest_covariances - [5, 4, 2]) < 0.5 )\n",
        "\n",
        "relevant_indices, highest_covariances = get_top_covariances(foo, 0, top_n=3)\n",
        "assert (tuple(relevant_indices) == (3, 1, 2)), \"Make sure to consider the magnitude of negative covariances\"\n",
        "assert np.all(np.abs(highest_covariances - [-5, 2, -0.5]) < 0.5 )\n",
        "\n",
        "relevant_indices, highest_covariances = get_top_covariances(foo, 2, top_n=2)\n",
        "assert (tuple(relevant_indices) == (1, 3))\n",
        "assert np.all(np.abs(highest_covariances - [5, 2]) < 0.5 )\n",
        "\n",
        "relevant_indices, highest_covariances = get_top_covariances(foo, 3, top_n=2)\n",
        "assert (tuple(relevant_indices) == (0, 1))\n",
        "assert np.all(np.abs(highest_covariances - [-5, 4]) < 0.5 )\n",
        "\n",
        "print(\"All tests passed\")"
      ],
      "execution_count": 14,
      "outputs": [
        {
          "output_type": "stream",
          "name": "stdout",
          "text": [
            "All tests passed\n"
          ]
        }
      ]
    },
    {
      "cell_type": "code",
      "metadata": {
        "colab": {
          "base_uri": "https://localhost:8080/"
        },
        "id": "cRdY3D3Yndwr",
        "outputId": "c1c5f401-1dc6-4a2d-b44b-47e2c8c90043"
      },
      "source": [
        "relevant_indices, highest_covariances = get_top_covariances(classification_changes, target_indices, top_n=10)\n",
        "print(relevant_indices)\n",
        "assert relevant_indices[9] == 34\n",
        "assert len(relevant_indices) == 10\n",
        "assert highest_covariances[8] - (-1.2418) < 1e-3\n",
        "for index, covariance in zip(relevant_indices, highest_covariances):\n",
        "    print(f\"{feature_names[index]}  {covariance:f}\")"
      ],
      "execution_count": 15,
      "outputs": [
        {
          "output_type": "stream",
          "name": "stdout",
          "text": [
            "[36 18 24 30  0 22 16 38  9 34]\n",
            "WearingLipstick  -2.952741\n",
            "HeavyMakeup  -2.705944\n",
            "NoBeard  -2.559908\n",
            "Sideburn  2.049579\n",
            "5oClockShadow  2.006832\n",
            "Mustache  1.998459\n",
            "Goatee  1.859539\n",
            "WearingNecktie  1.583723\n",
            "BlondHair  -1.241755\n",
            "WearingEarrings  -1.207922\n"
          ]
        }
      ]
    },
    {
      "cell_type": "markdown",
      "metadata": {
        "id": "TYKG365iKCNR"
      },
      "source": [
        "One of the major sources of difficulty with identifying bias and fairness is that there are many ways we might reasonably define these terms. Here are three ways that are computationally useful and [widely referenced](http://m-mitchell.com/papers/Adversarial_Bias_Mitigation.pdf). They are, by no means, the only definitions of fairness (see more details [here](https://developers.google.com/machine-learning/glossary/fairness)):\n",
        "\n",
        "1.   Demographic parity: the overall distribution of the predictions made by a predictor is the same for different values of a protected class. \n",
        "2.   Equality of odds: all else being equal, the probability that we predict correctly or incorrectly is the same for different values of a protected class. \n",
        "2.   Equality of opportunity: all else being equal, the probability that we predict correctly is the same for different valus of a protected class (weaker than equality of odds).\n",
        "\n",
        "With GANs also being used to help downstream classifiers, these definitions of fairness will impact, as well as depend on, our downstream task. It is important to work towards creating a fair GAN according to the definition we choose. Pursuing any of them is virtually always better than blindly labelling data, creating a GAN, and sampling its generations."
      ]
    },
    {
      "cell_type": "code",
      "metadata": {
        "id": "a1rvJTP0e2Pq"
      },
      "source": [
        ""
      ],
      "execution_count": 15,
      "outputs": []
    }
  ]
}